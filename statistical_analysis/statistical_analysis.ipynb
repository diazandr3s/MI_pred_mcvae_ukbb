{
 "cells": [
  {
   "cell_type": "code",
   "execution_count": 1,
   "metadata": {},
   "outputs": [],
   "source": [
    "import pandas as pd\n",
    "import scipy.stats as stats\n",
    "import numpy as np"
   ]
  },
  {
   "cell_type": "code",
   "execution_count": 2,
   "metadata": {},
   "outputs": [],
   "source": [
    "val_type = 'manual'\n",
    "preds_vals =  pd.read_csv('./' + val_type + '/preds.csv') \n",
    "GT_vals =  pd.read_csv('./' + val_type + '/test_set.csv') "
   ]
  },
  {
   "cell_type": "code",
   "execution_count": 3,
   "metadata": {},
   "outputs": [
    {
     "name": "stdout",
     "output_type": "stream",
     "text": [
      "Index(['ID', 'LVEDV', 'LVM'], dtype='object')\n",
      "Index(['ID', 'LVEDV', 'LVM'], dtype='object')\n"
     ]
    }
   ],
   "source": [
    "print(preds_vals.columns)\n",
    "print(GT_vals.columns)"
   ]
  },
  {
   "cell_type": "code",
   "execution_count": 4,
   "metadata": {},
   "outputs": [],
   "source": [
    "# print(np.array(np.round(preds_vals.iloc[:,1],0), dtype=np.int16))\n",
    "# print(np.array(preds_vals.iloc[:,1], dtype=np.int16))"
   ]
  },
  {
   "cell_type": "code",
   "execution_count": 5,
   "metadata": {},
   "outputs": [
    {
     "name": "stdout",
     "output_type": "stream",
     "text": [
      "p-value for LVEDV:  0.41265488945795525\n"
     ]
    }
   ],
   "source": [
    "res_lvedv = stats.ttest_ind(np.array(np.round(preds_vals.iloc[:,1],0), dtype=np.int16),\n",
    "                            np.array(GT_vals.iloc[:,1], dtype=np.int16), equal_var=False)\n",
    "print('p-value for LVEDV: ', res_lvedv[1])"
   ]
  },
  {
   "cell_type": "code",
   "execution_count": 6,
   "metadata": {},
   "outputs": [
    {
     "name": "stdout",
     "output_type": "stream",
     "text": [
      "p-value for LVM:  0.02888669075356351\n"
     ]
    }
   ],
   "source": [
    "res_lvm = stats.ttest_ind(np.array(np.round(preds_vals.iloc[:,2],0), dtype=np.int16),\n",
    "                          np.array(GT_vals.iloc[:,2], dtype=np.int16), equal_var=False)\n",
    "print('p-value for LVM: ', res_lvm[1])"
   ]
  },
  {
   "cell_type": "markdown",
   "metadata": {},
   "source": [
    "### t test for mean and variances"
   ]
  },
  {
   "cell_type": "code",
   "execution_count": 21,
   "metadata": {},
   "outputs": [],
   "source": [
    "# https://docs.scipy.org/doc/scipy/reference/generated/scipy.stats.ttest_ind_from_stats.html\n",
    "\n",
    "res_other = stats.ttest_ind_from_stats(-5.16, 17.21, 1310, 1, 10.20, 600)"
   ]
  },
  {
   "cell_type": "code",
   "execution_count": 22,
   "metadata": {},
   "outputs": [
    {
     "name": "stdout",
     "output_type": "stream",
     "text": [
      "7.244884679059312e-16\n"
     ]
    }
   ],
   "source": [
    "print(res_other[1])"
   ]
  },
  {
   "cell_type": "code",
   "execution_count": null,
   "metadata": {},
   "outputs": [],
   "source": []
  }
 ],
 "metadata": {
  "kernelspec": {
   "display_name": "mcvae_env",
   "language": "python",
   "name": "mcvae_env"
  },
  "language_info": {
   "codemirror_mode": {
    "name": "ipython",
    "version": 3
   },
   "file_extension": ".py",
   "mimetype": "text/x-python",
   "name": "python",
   "nbconvert_exporter": "python",
   "pygments_lexer": "ipython3",
   "version": "3.6.5"
  }
 },
 "nbformat": 4,
 "nbformat_minor": 2
}
