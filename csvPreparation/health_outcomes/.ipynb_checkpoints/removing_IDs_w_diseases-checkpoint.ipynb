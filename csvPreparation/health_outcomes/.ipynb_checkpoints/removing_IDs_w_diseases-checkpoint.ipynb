{
 "cells": [
  {
   "cell_type": "markdown",
   "metadata": {},
   "source": [
    "### This script select the IDs with:\n",
    "- Physical activity\n",
    "- Diabetes\n",
    "- Myocardial infacrtion\n",
    "- Cardiomyopathy"
   ]
  },
  {
   "cell_type": "code",
   "execution_count": null,
   "metadata": {},
   "outputs": [],
   "source": [
    "import numpy as np\n",
    "import pandas as pd\n",
    "import os"
   ]
  },
  {
   "cell_type": "code",
   "execution_count": null,
   "metadata": {},
   "outputs": [],
   "source": [
    "# Reading IDs\n",
    "common_ids = pd.read_csv('./common_10k_with_67k_fundus_32k_cmr_MTDT.csv') \n",
    "# Reading exercise IDs\n",
    "exercise_ids = pd.read_csv('./physical_activity.csv') \n",
    "# Reading myocardial\n",
    "myocardial_ids = pd.read_csv('./myocardial_infa.csv') "
   ]
  },
  {
   "cell_type": "code",
   "execution_count": null,
   "metadata": {},
   "outputs": [],
   "source": [
    "print(myocardial_ids.columns)"
   ]
  },
  {
   "cell_type": "code",
   "execution_count": null,
   "metadata": {},
   "outputs": [],
   "source": [
    "# Taking the common IDs\n",
    "exercise_ids = exercise_ids[exercise_ids.eid.isin(common_ids.ID.values)]\n",
    "myocardial_ids = myocardial_ids[myocardial_ids.eid.isin(common_ids.ID.values)]"
   ]
  },
  {
   "cell_type": "code",
   "execution_count": null,
   "metadata": {},
   "outputs": [],
   "source": [
    "exercise_ids.to_csv('new_exercise_ids.csv', sep=',', index=False)\n",
    "myocardial_ids.to_csv('new_myocardial_ids.csv', sep=',', index=False)"
   ]
  },
  {
   "cell_type": "code",
   "execution_count": null,
   "metadata": {},
   "outputs": [],
   "source": [
    "# print(myocardial_ids.info())"
   ]
  },
  {
   "cell_type": "code",
   "execution_count": null,
   "metadata": {},
   "outputs": [],
   "source": [
    "# print(myocardial_ids.iloc[:,0:5])"
   ]
  },
  {
   "cell_type": "code",
   "execution_count": null,
   "metadata": {},
   "outputs": [],
   "source": [
    "# 42000-0.0 -> Date of myocardial infarction\n",
    "# 42001-0.0 -> Source of myocardial infarction report\n",
    "\n",
    "# 42002-0.0 -> Date of STEMI (ST-Elevation Myocardial Infarction)\n",
    "# 42003-0.0 -> Source of STEMI report\n",
    "\n",
    "# 42004-0.0 -> Date of NSTEMI\n",
    "# 42005-0.0 -> Source of NSTEMI report\n",
    "\n",
    "# 42006-0.0 -> Date of stroke\n",
    "# 42007-0.0 -> Source of stroke report\n",
    "\n",
    "# 42008-0.0 -> Date of ischaemic stroke\n",
    "# 42009-0.0 -> Source of ischaemic stroke report"
   ]
  },
  {
   "cell_type": "code",
   "execution_count": null,
   "metadata": {},
   "outputs": [],
   "source": [
    "myo_infarct = myocardial_ids[['eid', '42000-0.0']].dropna()\n",
    "STEMI = myocardial_ids[['eid', '42004-0.0']].dropna()"
   ]
  },
  {
   "cell_type": "code",
   "execution_count": null,
   "metadata": {},
   "outputs": [],
   "source": [
    "print('myocardial infarction: ' + str(len(myo_infarct)))\n",
    "print('STEMI: ' + str(len(STEMI)))"
   ]
  },
  {
   "cell_type": "code",
   "execution_count": null,
   "metadata": {},
   "outputs": [],
   "source": [
    "discard_ids = pd.concat([myo_infarct['eid'], STEMI['eid']])"
   ]
  },
  {
   "cell_type": "markdown",
   "metadata": {},
   "source": [
    "### Exercise!! "
   ]
  },
  {
   "cell_type": "code",
   "execution_count": null,
   "metadata": {},
   "outputs": [],
   "source": [
    "# 904  --  Number of days/week of vigorous physical activity 10+ minutes\n",
    "# 1001  -- Duration of strenuous sports\n",
    "# 991  --  Frequency of strenuous sports in last 4 weeks\n",
    "# 10971 -- Duration of vigorous physical activity (pilot)\n",
    "# 914  --  Duration of vigorous activity\n",
    "# 2634  -- Duration of heavy DIY\n",
    "\n",
    "\n",
    "# 1100  --  Drive faster than motorway speed limit\n",
    "# 1021  --  Duration of light DIY\n",
    "# 894  --  Duration of moderate activity\n",
    "# 10962  --  Duration of moderate physical activity (pilot)\n",
    "# 3647  --  Duration of other exercises\n",
    "# 874  --  Duration of walks\n",
    "# 10953  --  Duration of walks (pilot)\n",
    "# 981  --  Duration walking for pleasure\n",
    "# 2624  --  Frequency of heavy DIY in last 4 weeks\n",
    "# 1011  --  Frequency of light DIY in last 4 weeks\n",
    "# 3637  --  Frequency of other exercises in last 4 weeks\n",
    "# 943  --  Frequency of stair climbing in last 4 weeks\n",
    "# 971  --  Frequency of walking for pleasure in last 4 weeks\n",
    "# 884  --  Number of days/week of moderate physical activity 10+ minutes\n",
    "# 864  --  Number of days/week walked 10+ minutes\n",
    "# 1090  --  Time spent driving\n",
    "# 1080  --  Time spent using computer\n",
    "# 1070  --  Time spent watching television (TV)\n",
    "# 6164  --  Types of physical activity in last 4 weeks\n",
    "# 6162  --  Types of transport used (excluding work)\n",
    "# 924  --  Usual walking pace"
   ]
  },
  {
   "cell_type": "code",
   "execution_count": null,
   "metadata": {},
   "outputs": [],
   "source": [
    "# 904  --  Number of days/week of vigorous physical activity 10+ minutes\n",
    "# 1001  -- Duration of strenuous sports\n",
    "# 991  --  Frequency of strenuous sports in last 4 weeks\n",
    "# 10971 -- Duration of vigorous physical activity (pilot)\n",
    "# 914  --  Duration of vigorous activity\n",
    "# 2634  -- Duration of heavy DIY\n",
    "\n",
    "# Codification:\n",
    "\n",
    "# 1 --  Less than 30 mins\n",
    "# 2 --  30 mins to 1 hour\n",
    "# 3 --  1 to 2 hours\n",
    "# 4 --  2 to 4 hours\n",
    "# 5 --  More than 4 hours\n",
    "# -1 --  Do not know\n",
    "# -3 --  Prefer not to answer\n",
    "\n",
    "# strenuous_exercise = exercise_ids[['eid', '904-0.0', '1001-0.0', '991-0.0', '10971-0.0', '914-0.0', '2634-0.0']] # .dropna()\n",
    "strenuous_exercise = exercise_ids[['eid', '904-0.0', '10971-0.0']].dropna()"
   ]
  },
  {
   "cell_type": "code",
   "execution_count": null,
   "metadata": {},
   "outputs": [],
   "source": [
    "# strenuous_exercise.hist()\n",
    "# strenuous_exercise"
   ]
  },
  {
   "cell_type": "code",
   "execution_count": null,
   "metadata": {},
   "outputs": [],
   "source": [
    "strenuous_exercise['discard'] = np.where((strenuous_exercise['904-0.0'] >= 2.0) & \n",
    "                                         (strenuous_exercise['10971-0.0'] >= 3.0), 1, np.nan)\n",
    "strenuous_exercise = strenuous_exercise.dropna()"
   ]
  },
  {
   "cell_type": "code",
   "execution_count": null,
   "metadata": {},
   "outputs": [],
   "source": [
    "print('Participants practicing strenuous exercise: ' + str(len(strenuous_exercise)))"
   ]
  },
  {
   "cell_type": "code",
   "execution_count": null,
   "metadata": {},
   "outputs": [],
   "source": [
    "discard_ids = pd.concat([discard_ids, strenuous_exercise['eid']])"
   ]
  },
  {
   "cell_type": "markdown",
   "metadata": {},
   "source": [
    "### Diabetes!!"
   ]
  },
  {
   "cell_type": "code",
   "execution_count": null,
   "metadata": {},
   "outputs": [],
   "source": [
    "diabetes_ids = common_ids[['ID', 'dm']]\n",
    "diabetes_ids['discard'] = np.where((diabetes_ids['dm'] > 0.0), 1, np.nan)\n",
    "diabetes_ids = diabetes_ids.dropna()"
   ]
  },
  {
   "cell_type": "code",
   "execution_count": null,
   "metadata": {},
   "outputs": [],
   "source": [
    "print('Participants with diabetes: ' + str(len(diabetes_ids)))"
   ]
  },
  {
   "cell_type": "code",
   "execution_count": null,
   "metadata": {},
   "outputs": [],
   "source": [
    "# diabetes_ids"
   ]
  },
  {
   "cell_type": "code",
   "execution_count": null,
   "metadata": {},
   "outputs": [],
   "source": [
    "discard_ids = pd.concat([discard_ids, diabetes_ids['ID']])"
   ]
  },
  {
   "cell_type": "code",
   "execution_count": null,
   "metadata": {
    "scrolled": true
   },
   "outputs": [],
   "source": [
    "discard_ids"
   ]
  },
  {
   "cell_type": "code",
   "execution_count": null,
   "metadata": {},
   "outputs": [],
   "source": [
    "# Extracting unique ids with all the previous conditions: myocardial infarction strenous exercise and diabetes\n",
    "unique_discard_ids = pd.DataFrame(discard_ids.unique())\n",
    "print('Number of ids: ' + str(len(unique_discard_ids)))"
   ]
  },
  {
   "cell_type": "markdown",
   "metadata": {},
   "source": [
    "### Removing discarded ids from the lists manual and automatic\n",
    "\n",
    "- Manual means the ids with manual delineation in the cmr images\n",
    "- Automatic ids means the ids after quality assessment from the fundus"
   ]
  },
  {
   "cell_type": "code",
   "execution_count": null,
   "metadata": {},
   "outputs": [],
   "source": [
    "# Reading IDs\n",
    "manual_ids = pd.read_csv('./manual_LVM_LVEDV_mtdt.csv') \n",
    "# Reading exercise IDs\n",
    "automatic_ids = pd.read_csv('./ROIS_LVM_LVEDV_MTDT.csv') "
   ]
  },
  {
   "cell_type": "code",
   "execution_count": null,
   "metadata": {},
   "outputs": [],
   "source": [
    "print('Manual IDs: ' + str(len(manual_ids)))\n",
    "print('Automatic IDs: ' + str(len(automatic_ids)))"
   ]
  },
  {
   "cell_type": "code",
   "execution_count": null,
   "metadata": {},
   "outputs": [],
   "source": [
    "new_automatic_ids = automatic_ids[~automatic_ids.ID.isin(unique_discard_ids.iloc[:,0])]\n",
    "new_manual_ids = manual_ids[~manual_ids.ID.isin(unique_discard_ids.iloc[:,0])]"
   ]
  },
  {
   "cell_type": "code",
   "execution_count": null,
   "metadata": {},
   "outputs": [],
   "source": [
    "print('New automatic: ' + str(len(new_automatic_ids)))\n",
    "print('New manual: '  + str(len(new_manual_ids)))"
   ]
  },
  {
   "cell_type": "code",
   "execution_count": null,
   "metadata": {},
   "outputs": [],
   "source": [
    "# new_manual_ids.to_csv('manual_LVM_LVEDV_mtdt_reduced.csv', index=False)"
   ]
  },
  {
   "cell_type": "markdown",
   "metadata": {},
   "source": [
    "### Normalising LVM and LVEDV by BSA"
   ]
  },
  {
   "cell_type": "code",
   "execution_count": null,
   "metadata": {},
   "outputs": [],
   "source": [
    "# The formula of DuBois\n",
    "# BSA = (W^(0.425) * H^(0.725)) * 0.007184\n",
    "# http://www-users.med.cornell.edu/~spon/picu/calc/bsacalc.htm"
   ]
  },
  {
   "cell_type": "code",
   "execution_count": null,
   "metadata": {},
   "outputs": [],
   "source": [
    "# new_manual_ids['LVEDV'] = round(new_manual_ids['LVEDV']/((pow(new_manual_ids['w'],0.425)*pow(new_manual_ids['h'],0.725))*0.007184),3)\n",
    "# new_manual_ids['LVM'] = round(new_manual_ids['LVM']/((pow(new_manual_ids['w'],0.425)*pow(new_manual_ids['h'],0.725))*0.007184),3)"
   ]
  },
  {
   "cell_type": "code",
   "execution_count": null,
   "metadata": {},
   "outputs": [],
   "source": [
    "# print(len(new_manual_ids))\n",
    "# print(len(new_manual_ids.dropna()))\n",
    "# new_manual_ids = new_manual_ids.dropna()"
   ]
  },
  {
   "cell_type": "code",
   "execution_count": null,
   "metadata": {},
   "outputs": [],
   "source": [
    "new_manual_ids.to_csv('manual_LVM_LVEDV_mtdt_reduced.csv', index=False)\n",
    "# new_manual_ids"
   ]
  },
  {
   "cell_type": "code",
   "execution_count": null,
   "metadata": {},
   "outputs": [],
   "source": [
    "# new_automatic_ids['LVEDV_automatic'] = round(new_automatic_ids['LVEDV_automatic']/((pow(new_automatic_ids['w'],0.425)*pow(new_automatic_ids['h'],0.725))*0.007184),3)\n",
    "# new_automatic_ids['LVM_automatic'] = round(new_automatic_ids['LVM_automatic']/((pow(new_automatic_ids['w'],0.425)*pow(new_automatic_ids['h'],0.725))*0.007184),3)"
   ]
  },
  {
   "cell_type": "code",
   "execution_count": null,
   "metadata": {},
   "outputs": [],
   "source": [
    "# print(len(new_automatic_ids))\n",
    "# print(len(new_automatic_ids.dropna()))\n",
    "# new_automatic_ids = new_automatic_ids.dropna()"
   ]
  },
  {
   "cell_type": "code",
   "execution_count": null,
   "metadata": {},
   "outputs": [],
   "source": [
    "new_automatic_ids.to_csv('automatic_LVM_LVEDV_mtdt_reduced.csv', index=False)"
   ]
  }
 ],
 "metadata": {
  "kernelspec": {
   "display_name": "EyeQ_env",
   "language": "python",
   "name": "eyeq_env"
  },
  "language_info": {
   "codemirror_mode": {
    "name": "ipython",
    "version": 3
   },
   "file_extension": ".py",
   "mimetype": "text/x-python",
   "name": "python",
   "nbconvert_exporter": "python",
   "pygments_lexer": "ipython3",
   "version": "3.6.9"
  }
 },
 "nbformat": 4,
 "nbformat_minor": 2
}
