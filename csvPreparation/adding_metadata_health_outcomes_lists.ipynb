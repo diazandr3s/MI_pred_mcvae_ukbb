{
 "cells": [
  {
   "cell_type": "code",
   "execution_count": 1,
   "metadata": {},
   "outputs": [],
   "source": [
    "import pandas as pd\n",
    "import numpy as np"
   ]
  },
  {
   "cell_type": "code",
   "execution_count": 2,
   "metadata": {},
   "outputs": [],
   "source": [
    "file_name = 'non_stroke_MI_ids'\n",
    "\n",
    "\n",
    "# reading common fundus/cmr ids\n",
    "fundus_IDs = pd.read_csv('./' + file_name + '.csv')\n",
    "# reading mtdt\n",
    "mtdt_IDs = pd.read_csv('../cardiacMR_ukbiobank/MTDT_1_34_500k.csv', sep=',') "
   ]
  },
  {
   "cell_type": "code",
   "execution_count": 3,
   "metadata": {},
   "outputs": [
    {
     "name": "stdout",
     "output_type": "stream",
     "text": [
      "(70022, 1)\n",
      "(502511, 34)\n"
     ]
    }
   ],
   "source": [
    "print(fundus_IDs.values.shape)\n",
    "print(mtdt_IDs.shape)"
   ]
  },
  {
   "cell_type": "code",
   "execution_count": 4,
   "metadata": {},
   "outputs": [],
   "source": [
    "# Taking only the fundus IDs\n",
    "mtdt_IDs = mtdt_IDs[mtdt_IDs.ID.isin(fundus_IDs.eid.values)]\n",
    "mtdt_IDs.index = range(len(mtdt_IDs))"
   ]
  },
  {
   "cell_type": "code",
   "execution_count": 5,
   "metadata": {},
   "outputs": [
    {
     "name": "stdout",
     "output_type": "stream",
     "text": [
      "(70022, 1)\n",
      "(70022, 34)\n"
     ]
    }
   ],
   "source": [
    "print(fundus_IDs.values.shape)\n",
    "print(mtdt_IDs.shape)"
   ]
  },
  {
   "cell_type": "code",
   "execution_count": 6,
   "metadata": {},
   "outputs": [],
   "source": [
    "extra_columns = ['roi_c_min', 'roi_c_max','roi_r_min', 'roi_r_max','roi_length',\n",
    "                 'LVEDV_automatic','LVESV_automatic','LVSV_automatic','LVEF_automatic',\n",
    "                 'LVM_automatic','RVEDV_automatic','RVESV_automatic','RVSV_automatic',\n",
    "                 'RVEF_automatic','LVEDV_manual','LVESV_manual','LVSV_manual','LVEF_manual',\n",
    "                 'LVM_manual','RVEDV_manual','RVESV_manual','RVSV_manual','RVEF_manual']\n",
    "\n",
    "np_4_new_columns = np.zeros((len(mtdt_IDs),len(extra_columns)))"
   ]
  },
  {
   "cell_type": "code",
   "execution_count": 7,
   "metadata": {},
   "outputs": [],
   "source": [
    "extra_dataframe = pd.DataFrame(data=np_4_new_columns, columns=extra_columns)"
   ]
  },
  {
   "cell_type": "code",
   "execution_count": 8,
   "metadata": {},
   "outputs": [],
   "source": [
    "all_pd = pd.concat([mtdt_IDs['ID'], extra_dataframe, mtdt_IDs.iloc[:,1:]],axis=1)\n",
    "# print(all_pd.columns)\n",
    "# print(all_pd)"
   ]
  },
  {
   "cell_type": "code",
   "execution_count": 9,
   "metadata": {},
   "outputs": [],
   "source": [
    "# Filling the NaN values with -1\n",
    "all_pd = all_pd.fillna(-1)\n",
    "# Saving the to csv file\n",
    "all_pd.to_csv(file_name  + '_mtdt.csv', index=False)"
   ]
  }
 ],
 "metadata": {
  "kernelspec": {
   "display_name": "mmf-net_env",
   "language": "python",
   "name": "mmf-net_env"
  },
  "language_info": {
   "codemirror_mode": {
    "name": "ipython",
    "version": 3
   },
   "file_extension": ".py",
   "mimetype": "text/x-python",
   "name": "python",
   "nbconvert_exporter": "python",
   "pygments_lexer": "ipython3",
   "version": "3.6.9"
  }
 },
 "nbformat": 4,
 "nbformat_minor": 2
}
