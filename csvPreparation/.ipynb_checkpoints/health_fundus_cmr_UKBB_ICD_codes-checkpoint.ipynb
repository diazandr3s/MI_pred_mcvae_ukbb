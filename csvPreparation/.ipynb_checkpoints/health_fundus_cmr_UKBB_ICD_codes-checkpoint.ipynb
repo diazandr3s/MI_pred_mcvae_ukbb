{
 "cells": [
  {
   "cell_type": "code",
   "execution_count": null,
   "metadata": {},
   "outputs": [],
   "source": [
    "import numpy as np\n",
    "import pandas as pd\n",
    "import os"
   ]
  },
  {
   "cell_type": "code",
   "execution_count": null,
   "metadata": {},
   "outputs": [],
   "source": [
    "# Reading all labels of the ICD codes (Category 2409)\n",
    "# This file is located in s3://dataset-ukbb-retina/New data Basket 42059 application 11350/\n",
    "ICD_codes = pd.read_csv('./ukb42059.csv', sep=',') \n",
    "# Reading all metadata - This is to extract the diabetes labels\n",
    "all_mtdt = pd.read_csv('../cardiacMR_ukbiobank/MTDT_1_34_500k.csv', sep=',') \n",
    "# common subjects fundus & CMR\n",
    "subjects_fundus_cmr = pd.read_csv('./new_common_fundus_cmr.csv', sep=' ')\n",
    "# All subjects with fundus\n",
    "subjects_fundus = pd.read_csv('../common_lists_CMR_OCT_scripts/only_ids_85K_fundus.csv', sep=' ')"
   ]
  },
  {
   "cell_type": "code",
   "execution_count": null,
   "metadata": {},
   "outputs": [],
   "source": [
    "print('All subjects in UKBB: ' + str(len(ICD_codes)))\n",
    "print('All subjects with metadata: ' + str(len(all_mtdt)))\n",
    "print('Subjects with only fundus: ' + str(len(subjects_fundus)))\n",
    "print('Subjects with fundus&CMR: ' + str(len(subjects_fundus_cmr)))"
   ]
  },
  {
   "cell_type": "code",
   "execution_count": null,
   "metadata": {},
   "outputs": [],
   "source": [
    "common_labels_fundus = ICD_codes[ICD_codes.eid.isin(subjects_fundus.ID.values)]\n",
    "common_labels_fundus_cmr = ICD_codes[ICD_codes.eid.isin(subjects_fundus_cmr.ID.values)]"
   ]
  },
  {
   "cell_type": "code",
   "execution_count": null,
   "metadata": {},
   "outputs": [],
   "source": [
    "print(len(common_labels_fundus))\n",
    "print(len(common_labels_fundus_cmr))"
   ]
  },
  {
   "cell_type": "code",
   "execution_count": null,
   "metadata": {},
   "outputs": [],
   "source": [
    "# 131298-0.0 -> Date I21 first reported (acute myocardial infarction)\n",
    "# 131300-0.0 -> Date I22 first reported (subsequent myocardial infarction)\n",
    "# 131338-0.0 -> Date I42 first reported (cardiomyopathy)\n",
    "# 131346-0.0 -> Date I46 first reported (cardiac arrest)\n",
    "# 131366-0.0 -> Date I63 first reported (cerebral infarction)"
   ]
  },
  {
   "cell_type": "code",
   "execution_count": null,
   "metadata": {},
   "outputs": [],
   "source": [
    "# For fundus&cmr\n",
    "acute_myo_fundus_cmr = common_labels_fundus_cmr[~common_labels_fundus_cmr['131298-0.0'].isnull()]\n",
    "cardiomyopathy_fundus_cmr = common_labels_fundus_cmr[~common_labels_fundus_cmr['131338-0.0'].isnull()]\n",
    "cerebral_infarction_fundus_cmr = common_labels_fundus_cmr[~common_labels_fundus_cmr['131366-0.0'].isnull()]"
   ]
  },
  {
   "cell_type": "code",
   "execution_count": null,
   "metadata": {},
   "outputs": [],
   "source": [
    "print('Acute myocardial infarction: ' + str(len(acute_myo_fundus_cmr)))\n",
    "print('Cardiomyopathy: ' + str(len(cardiomyopathy_fundus_cmr)))\n",
    "print('Cerebral Infarction: ' + str(len(cerebral_infarction_fundus_cmr)))"
   ]
  },
  {
   "cell_type": "code",
   "execution_count": null,
   "metadata": {},
   "outputs": [],
   "source": [
    "# For fundus only\n",
    "acute_myo_fundus_cmr = common_labels_fundus[~common_labels_fundus['131298-0.0'].isnull()]\n",
    "cardiomyopathy_fundus_cmr = common_labels_fundus[~common_labels_fundus['131338-0.0'].isnull()]\n",
    "cerebral_infarction_fundus_cmr = common_labels_fundus[~common_labels_fundus['131366-0.0'].isnull()]"
   ]
  },
  {
   "cell_type": "code",
   "execution_count": null,
   "metadata": {},
   "outputs": [],
   "source": [
    "print('Acute myocardial infarction: ' + str(len(acute_myo_fundus_cmr)))\n",
    "print('Cardiomyopathy: ' + str(len(cardiomyopathy_fundus_cmr)))\n",
    "print('Cerebral Infarction: ' + str(len(cerebral_infarction_fundus_cmr)))"
   ]
  },
  {
   "cell_type": "code",
   "execution_count": null,
   "metadata": {},
   "outputs": [],
   "source": [
    "five_years_MI = acute_myo_fundus_cmr[(acute_myo_fundus_cmr['131298-0.0'] > '2010-12-31') & (acute_myo_fundus_cmr['131298-0.0'] < '2015-12-31')]\n",
    "five_years_MI['date_diff'] = pd.to_datetime(five_years_MI['131298-0.0'], format='%Y-%m-%d') - pd.to_datetime('2010-12-31', format='%Y-%m-%d')\n",
    "\n",
    "print('Mean in days for 5-year: ' + str(five_years_MI['date_diff'].mean().days))\n",
    "print('std for 5-year: ' + str(five_years_MI['date_diff'].std().days))"
   ]
  },
  {
   "cell_type": "code",
   "execution_count": null,
   "metadata": {},
   "outputs": [],
   "source": [
    "ten_years_MI =  acute_myo_fundus_cmr[(acute_myo_fundus_cmr['131298-0.0'] > '2015-12-31') & (acute_myo_fundus_cmr['131298-0.0'] < '2020-12-31')]\n",
    "\n",
    "ten_years_MI['date_diff'] = pd.to_datetime(ten_years_MI['131298-0.0'], format='%Y-%m-%d') - pd.to_datetime('2015-12-31', format='%Y-%m-%d')\n",
    "\n",
    "print('Mean in days for 10-year: ' + str(365*5 + ten_years_MI['date_diff'].mean().days))\n",
    "print('std for 10-year: ' + str(ten_years_MI['date_diff'].std().days))"
   ]
  }
 ],
 "metadata": {
  "kernelspec": {
   "display_name": "EyeQ_env",
   "language": "python",
   "name": "eyeq_env"
  },
  "language_info": {
   "codemirror_mode": {
    "name": "ipython",
    "version": 3
   },
   "file_extension": ".py",
   "mimetype": "text/x-python",
   "name": "python",
   "nbconvert_exporter": "python",
   "pygments_lexer": "ipython3",
   "version": "3.6.9"
  }
 },
 "nbformat": 4,
 "nbformat_minor": 2
}
