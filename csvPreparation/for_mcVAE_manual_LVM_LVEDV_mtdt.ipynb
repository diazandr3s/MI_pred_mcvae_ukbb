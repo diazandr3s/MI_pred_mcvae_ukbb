{
 "cells": [
  {
   "cell_type": "code",
   "execution_count": null,
   "metadata": {},
   "outputs": [],
   "source": [
    "import pandas as pd\n",
    "import numpy as np"
   ]
  },
  {
   "cell_type": "code",
   "execution_count": null,
   "metadata": {},
   "outputs": [],
   "source": [
    "# reading common fundus/cmr ids\n",
    "common_IDs = pd.read_csv('common_10k_with_67k_fundus_32k_cmr_MTDT.csv')\n",
    "# reading ROIs and cardiac indexes\n",
    "c_func_IDs = pd.read_csv('ROIS_LVEDV_LVM_manual_IDs.csv')"
   ]
  },
  {
   "cell_type": "code",
   "execution_count": null,
   "metadata": {},
   "outputs": [],
   "source": [
    "print(common_IDs.values.shape)\n",
    "print(c_func_IDs.shape)"
   ]
  },
  {
   "cell_type": "code",
   "execution_count": null,
   "metadata": {},
   "outputs": [],
   "source": [
    "# Taking the common IDs\n",
    "common_IDs = common_IDs[common_IDs.ID.isin(c_func_IDs.ID.values)]"
   ]
  },
  {
   "cell_type": "code",
   "execution_count": null,
   "metadata": {},
   "outputs": [],
   "source": [
    "# Ordering by ID\n",
    "common_IDs = common_IDs.sort_values(by=['ID']).set_index('ID')\n",
    "c_func_IDs = c_func_IDs.sort_values(by=['ID']).set_index('ID')"
   ]
  },
  {
   "cell_type": "code",
   "execution_count": null,
   "metadata": {},
   "outputs": [],
   "source": [
    "print(common_IDs.values.shape)\n",
    "print(c_func_IDs.values.shape)"
   ]
  },
  {
   "cell_type": "code",
   "execution_count": null,
   "metadata": {},
   "outputs": [],
   "source": [
    "common_IDs = common_IDs.drop(columns=['roi_c_min', 'roi_c_max', 'roi_r_min', 'roi_r_max', 'roi_length', 'LVEDV_automatic','LVESV_automatic','LVSV_automatic','LVEF_automatic','LVM_automatic','RVEDV_automatic',\n",
    "                 'RVESV_automatic','RVSV_automatic','RVEF_automatic', 'LVEDV_manual', 'LVESV_manual',\n",
    "                 'LVSV_manual','LVEF_manual', 'LVM_manual', 'RVEDV_manual', 'RVESV_manual', 'RVSV_manual',\n",
    "                 'RVEF_manual'])"
   ]
  },
  {
   "cell_type": "code",
   "execution_count": null,
   "metadata": {},
   "outputs": [],
   "source": [
    "print(common_IDs.shape)"
   ]
  },
  {
   "cell_type": "code",
   "execution_count": null,
   "metadata": {},
   "outputs": [],
   "source": [
    "result = pd.concat([c_func_IDs, common_IDs], axis=1)"
   ]
  },
  {
   "cell_type": "code",
   "execution_count": null,
   "metadata": {},
   "outputs": [],
   "source": [
    "print(result.shape)"
   ]
  },
  {
   "cell_type": "code",
   "execution_count": null,
   "metadata": {},
   "outputs": [],
   "source": [
    "# Filling the NaN values with -1\n",
    "result = result.fillna(-1)\n",
    "# Saving the to csv file\n",
    "result.to_csv('manual_LVM_LVEDV_mtdt.csv')"
   ]
  }
 ],
 "metadata": {
  "kernelspec": {
   "display_name": "andresEnv",
   "language": "python",
   "name": "andresenv"
  },
  "language_info": {
   "codemirror_mode": {
    "name": "ipython",
    "version": 3
   },
   "file_extension": ".py",
   "mimetype": "text/x-python",
   "name": "python",
   "nbconvert_exporter": "python",
   "pygments_lexer": "ipython3",
   "version": "3.6.1"
  }
 },
 "nbformat": 4,
 "nbformat_minor": 2
}
